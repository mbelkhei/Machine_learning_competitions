{
 "cells": [
  {
   "cell_type": "markdown",
   "metadata": {},
   "source": [
    "## Car Popularity Prediction - GS Codesprint 2018"
   ]
  },
  {
   "cell_type": "markdown",
   "metadata": {},
   "source": [
    "**Introduction**\n",
    "A car company has the data for all the cars that are present in the market. They are planning to introduce some new ones of their own, but first, they want to find out what would be the popularity of the new cars in the market based on each car's attributes.\n",
    "\n",
    "We will provide you a dataset of cars along with the attributes of each car along with its popularity. Your task is to train a model that can predict the popularity of new cars based on the given attributes.\n",
    "\n",
    "**Dataset**\n",
    "You are given a training dataset, train.csv. The file is a comma separated file with useful information for this task:\n",
    "\n",
    "train.csv contains the information about a car along with its popularity level. Each row provides information on each car. Information such as buying_price, maintenance_cost, number_of_doors, number_of_seats, etc. The definition of each attribute is as follows:\n",
    "\n",
    "- *buying_price:* The buying_price denotes the buying price of the car, and it ranges from [1...4], where buying_price equal to 1 represents the lowest price while buying_price equal to 4 represents the highest price.\n",
    "- *maintenance_cost:* The maintenance_cost denotes the maintenance cost of the car, and it ranges from [1...4], where maintenance_cost equal to 1 represents the lowest cost while maintenance_cost equal to 4 represents the highest cost.\n",
    "- *number_of_doors:* The number_of_doors denotes the number of doors in the car, and it ranges from [2...5], where each value of number_of_doors represents the number of doors in the car.\n",
    "- *number_of_seats:* The number_of_seats denotes the number of seats in the car, and it consists of [2, 4, 5], where each value of number_of_seats represents the number of seats in the car.\n",
    "- *luggage_boot_size:* The luggage_boot_size denotes the luggage boot size, and it ranges from [1...3], where luggage_boot_size equal to 1 represents smallest luggage boot size while luggage_boot_size equal to 3 represents largest luggage boot size.\n",
    "- *safety_rating:* The safety_rating denotes the safety rating of the car, and it ranges from [1...3], where safety_rating equal to 1 represents low safety while safety_rating equal to 3 represents high safety.\n",
    "- *popularity:* The popularity denotes the popularity of the car, and it ranges from [1...4], where popularity equal to 1 represents an unacceptable car, popularity equal to 2 represents an acceptable car, popularity equal to 3 represents a good car, and popularity equal to 4 represents the best car.\n",
    "\n",
    "We also provide a test set of  car along with the above attributes excluding popularity, in test.csv. The goal is to predict the popularity of the car based on its attributes.\n",
    "\n",
    "[Link to competition](https://www.hackerrank.com/contests/gs-codesprint-2018/challenges/car-popularity-prediction)"
   ]
  },
  {
   "cell_type": "code",
   "execution_count": 1,
   "metadata": {},
   "outputs": [],
   "source": [
    "# Handle table-like data and matrices\n",
    "import numpy as np\n",
    "import pandas as pd\n",
    "\n",
    "# Modelling Algorithms\n",
    "from sklearn.ensemble import  RandomForestClassifier, AdaBoostClassifier, GradientBoostingClassifier, ExtraTreesClassifier, VotingClassifier\n",
    "from sklearn.model_selection import GridSearchCV\n",
    "from sklearn.svm import SVC\n",
    "from sklearn.tree import DecisionTreeClassifier\n",
    "\n",
    "# Modelling Helpers\n",
    "from sklearn import metrics\n",
    "from sklearn.model_selection import StratifiedKFold, cross_val_score, train_test_split\n",
    "\n",
    "# Visualisation\n",
    "import matplotlib.pyplot as plt\n",
    "import seaborn as sns\n",
    "\n",
    "# Configure visualisations\n",
    "%matplotlib inline\n",
    "sns.set_style( 'white' )"
   ]
  },
  {
   "cell_type": "code",
   "execution_count": 2,
   "metadata": {},
   "outputs": [],
   "source": [
    "train = pd.read_csv('data/train.csv')\n",
    "# test set doesn't have header\n",
    "test  = pd.read_csv('data/test.csv', header= None, names=['buying_price','maintainence_cost','number_of_doors','number_of_seats','luggage_boot_size','safety_rating'])"
   ]
  },
  {
   "cell_type": "code",
   "execution_count": 3,
   "metadata": {},
   "outputs": [
    {
     "data": {
      "text/html": [
       "<div>\n",
       "<style scoped>\n",
       "    .dataframe tbody tr th:only-of-type {\n",
       "        vertical-align: middle;\n",
       "    }\n",
       "\n",
       "    .dataframe tbody tr th {\n",
       "        vertical-align: top;\n",
       "    }\n",
       "\n",
       "    .dataframe thead th {\n",
       "        text-align: right;\n",
       "    }\n",
       "</style>\n",
       "<table border=\"1\" class=\"dataframe\">\n",
       "  <thead>\n",
       "    <tr style=\"text-align: right;\">\n",
       "      <th></th>\n",
       "      <th>buying_price</th>\n",
       "      <th>maintainence_cost</th>\n",
       "      <th>number_of_doors</th>\n",
       "      <th>number_of_seats</th>\n",
       "      <th>luggage_boot_size</th>\n",
       "      <th>safety_rating</th>\n",
       "      <th>popularity</th>\n",
       "    </tr>\n",
       "  </thead>\n",
       "  <tbody>\n",
       "    <tr>\n",
       "      <th>0</th>\n",
       "      <td>3</td>\n",
       "      <td>2</td>\n",
       "      <td>4</td>\n",
       "      <td>2</td>\n",
       "      <td>2</td>\n",
       "      <td>2</td>\n",
       "      <td>1</td>\n",
       "    </tr>\n",
       "    <tr>\n",
       "      <th>1</th>\n",
       "      <td>3</td>\n",
       "      <td>2</td>\n",
       "      <td>2</td>\n",
       "      <td>5</td>\n",
       "      <td>2</td>\n",
       "      <td>1</td>\n",
       "      <td>1</td>\n",
       "    </tr>\n",
       "    <tr>\n",
       "      <th>2</th>\n",
       "      <td>1</td>\n",
       "      <td>4</td>\n",
       "      <td>2</td>\n",
       "      <td>5</td>\n",
       "      <td>1</td>\n",
       "      <td>3</td>\n",
       "      <td>1</td>\n",
       "    </tr>\n",
       "    <tr>\n",
       "      <th>3</th>\n",
       "      <td>4</td>\n",
       "      <td>4</td>\n",
       "      <td>2</td>\n",
       "      <td>2</td>\n",
       "      <td>1</td>\n",
       "      <td>2</td>\n",
       "      <td>1</td>\n",
       "    </tr>\n",
       "    <tr>\n",
       "      <th>4</th>\n",
       "      <td>3</td>\n",
       "      <td>3</td>\n",
       "      <td>3</td>\n",
       "      <td>4</td>\n",
       "      <td>3</td>\n",
       "      <td>3</td>\n",
       "      <td>2</td>\n",
       "    </tr>\n",
       "  </tbody>\n",
       "</table>\n",
       "</div>"
      ],
      "text/plain": [
       "   buying_price  maintainence_cost  number_of_doors  number_of_seats  \\\n",
       "0             3                  2                4                2   \n",
       "1             3                  2                2                5   \n",
       "2             1                  4                2                5   \n",
       "3             4                  4                2                2   \n",
       "4             3                  3                3                4   \n",
       "\n",
       "   luggage_boot_size  safety_rating  popularity  \n",
       "0                  2              2           1  \n",
       "1                  2              1           1  \n",
       "2                  1              3           1  \n",
       "3                  1              2           1  \n",
       "4                  3              3           2  "
      ]
     },
     "execution_count": 3,
     "metadata": {},
     "output_type": "execute_result"
    }
   ],
   "source": [
    "train.head()"
   ]
  },
  {
   "cell_type": "code",
   "execution_count": 4,
   "metadata": {},
   "outputs": [
    {
     "name": "stdout",
     "output_type": "stream",
     "text": [
      "<class 'pandas.core.frame.DataFrame'>\n",
      "RangeIndex: 1628 entries, 0 to 1627\n",
      "Data columns (total 7 columns):\n",
      "buying_price         1628 non-null int64\n",
      "maintainence_cost    1628 non-null int64\n",
      "number_of_doors      1628 non-null int64\n",
      "number_of_seats      1628 non-null int64\n",
      "luggage_boot_size    1628 non-null int64\n",
      "safety_rating        1628 non-null int64\n",
      "popularity           1628 non-null int64\n",
      "dtypes: int64(7)\n",
      "memory usage: 89.1 KB\n"
     ]
    }
   ],
   "source": [
    "train.info()"
   ]
  },
  {
   "cell_type": "code",
   "execution_count": 5,
   "metadata": {},
   "outputs": [
    {
     "data": {
      "text/html": [
       "<div>\n",
       "<style scoped>\n",
       "    .dataframe tbody tr th:only-of-type {\n",
       "        vertical-align: middle;\n",
       "    }\n",
       "\n",
       "    .dataframe tbody tr th {\n",
       "        vertical-align: top;\n",
       "    }\n",
       "\n",
       "    .dataframe thead th {\n",
       "        text-align: right;\n",
       "    }\n",
       "</style>\n",
       "<table border=\"1\" class=\"dataframe\">\n",
       "  <thead>\n",
       "    <tr style=\"text-align: right;\">\n",
       "      <th></th>\n",
       "      <th>buying_price</th>\n",
       "      <th>maintainence_cost</th>\n",
       "      <th>number_of_doors</th>\n",
       "      <th>number_of_seats</th>\n",
       "      <th>luggage_boot_size</th>\n",
       "      <th>safety_rating</th>\n",
       "    </tr>\n",
       "  </thead>\n",
       "  <tbody>\n",
       "    <tr>\n",
       "      <th>0</th>\n",
       "      <td>4</td>\n",
       "      <td>1</td>\n",
       "      <td>2</td>\n",
       "      <td>2</td>\n",
       "      <td>2</td>\n",
       "      <td>2</td>\n",
       "    </tr>\n",
       "    <tr>\n",
       "      <th>1</th>\n",
       "      <td>2</td>\n",
       "      <td>1</td>\n",
       "      <td>3</td>\n",
       "      <td>4</td>\n",
       "      <td>3</td>\n",
       "      <td>2</td>\n",
       "    </tr>\n",
       "    <tr>\n",
       "      <th>2</th>\n",
       "      <td>4</td>\n",
       "      <td>4</td>\n",
       "      <td>2</td>\n",
       "      <td>5</td>\n",
       "      <td>1</td>\n",
       "      <td>2</td>\n",
       "    </tr>\n",
       "    <tr>\n",
       "      <th>3</th>\n",
       "      <td>4</td>\n",
       "      <td>3</td>\n",
       "      <td>3</td>\n",
       "      <td>2</td>\n",
       "      <td>2</td>\n",
       "      <td>2</td>\n",
       "    </tr>\n",
       "    <tr>\n",
       "      <th>4</th>\n",
       "      <td>4</td>\n",
       "      <td>2</td>\n",
       "      <td>2</td>\n",
       "      <td>4</td>\n",
       "      <td>3</td>\n",
       "      <td>2</td>\n",
       "    </tr>\n",
       "  </tbody>\n",
       "</table>\n",
       "</div>"
      ],
      "text/plain": [
       "   buying_price  maintainence_cost  number_of_doors  number_of_seats  \\\n",
       "0             4                  1                2                2   \n",
       "1             2                  1                3                4   \n",
       "2             4                  4                2                5   \n",
       "3             4                  3                3                2   \n",
       "4             4                  2                2                4   \n",
       "\n",
       "   luggage_boot_size  safety_rating  \n",
       "0                  2              2  \n",
       "1                  3              2  \n",
       "2                  1              2  \n",
       "3                  2              2  \n",
       "4                  3              2  "
      ]
     },
     "execution_count": 5,
     "metadata": {},
     "output_type": "execute_result"
    }
   ],
   "source": [
    "test.head()"
   ]
  },
  {
   "cell_type": "code",
   "execution_count": 6,
   "metadata": {},
   "outputs": [
    {
     "name": "stdout",
     "output_type": "stream",
     "text": [
      "<class 'pandas.core.frame.DataFrame'>\n",
      "RangeIndex: 100 entries, 0 to 99\n",
      "Data columns (total 6 columns):\n",
      "buying_price         100 non-null int64\n",
      "maintainence_cost    100 non-null int64\n",
      "number_of_doors      100 non-null int64\n",
      "number_of_seats      100 non-null int64\n",
      "luggage_boot_size    100 non-null int64\n",
      "safety_rating        100 non-null int64\n",
      "dtypes: int64(6)\n",
      "memory usage: 4.8 KB\n"
     ]
    }
   ],
   "source": [
    "test.info()"
   ]
  },
  {
   "cell_type": "markdown",
   "metadata": {},
   "source": [
    "Both train an test sets have no missing values, and all values are ordinal and nominal"
   ]
  },
  {
   "cell_type": "code",
   "execution_count": 7,
   "metadata": {},
   "outputs": [
    {
     "name": "stdout",
     "output_type": "stream",
     "text": [
      "unique values of buying_price are [3 1 4 2]\n",
      "unique values of maintainence_cost are [2 4 3 1]\n",
      "unique values of number_of_doors are [4 2 3 5]\n",
      "unique values of number_of_seats are [2 5 4]\n",
      "unique values of luggage_boot_size are [2 1 3]\n",
      "unique values of safety_rating are [2 1 3]\n",
      "unique values of popularity are [1 2 3 4]\n"
     ]
    }
   ],
   "source": [
    "# Checking any anomalities\n",
    "for item in train.columns:\n",
    "    print('unique values of {} are {}'.format(item, train[item].unique()))"
   ]
  },
  {
   "cell_type": "code",
   "execution_count": 8,
   "metadata": {},
   "outputs": [
    {
     "name": "stdout",
     "output_type": "stream",
     "text": [
      "unique values of buying_price are [3 1 4 2]\n",
      "unique values of maintainence_cost are [2 4 3 1]\n",
      "unique values of number_of_doors are [4 2 3 5]\n",
      "unique values of number_of_seats are [2 5 4]\n",
      "unique values of luggage_boot_size are [2 1 3]\n",
      "unique values of safety_rating are [2 1 3]\n"
     ]
    }
   ],
   "source": [
    "# Checking any anomalities\n",
    "for item in test.columns:\n",
    "    print('unique values of {} are {}'.format(item, train[item].unique()))"
   ]
  },
  {
   "cell_type": "markdown",
   "metadata": {},
   "source": [
    "buying_price, maintainence_cost, luggage_boot_size, safety_rating are ranked from low to high, they need transformations\n",
    "number_of_doors, number_of_seats are categorical variables and they can be transformed using dummies"
   ]
  },
  {
   "cell_type": "code",
   "execution_count": 9,
   "metadata": {},
   "outputs": [],
   "source": [
    "def count_var(data,col):\n",
    "    dic_test = {}\n",
    "    ix = list(data.columns).index(col)+1\n",
    "    for row in data.itertuples():\n",
    "        if row[ix] in dic_test:\n",
    "            dic_test[row[ix]] = dic_test[row[ix]] + 1\n",
    "        else:\n",
    "            dic_test[row[ix]] = 1\n",
    "    return dic_test"
   ]
  },
  {
   "cell_type": "code",
   "execution_count": 10,
   "metadata": {},
   "outputs": [],
   "source": [
    "# normalize features that are ordinal\n",
    "def transform_values(data,col_lis):\n",
    "    for col in col_lis:\n",
    "        dic = count_var(data,col)\n",
    "        data['norm'+'_'+col] = data[col].apply(lambda x: x/data[col].max())\n",
    "        data['sr'+'_'+col]   = data[col].apply(lambda x: dic[x]/data.shape[0])"
   ]
  },
  {
   "cell_type": "code",
   "execution_count": 11,
   "metadata": {},
   "outputs": [],
   "source": [
    "transform_values(train,['buying_price','maintainence_cost','luggage_boot_size','safety_rating'])\n",
    "transform_values(test,['buying_price','maintainence_cost','luggage_boot_size','safety_rating'])"
   ]
  },
  {
   "cell_type": "code",
   "execution_count": 12,
   "metadata": {},
   "outputs": [
    {
     "data": {
      "text/html": [
       "<div>\n",
       "<style scoped>\n",
       "    .dataframe tbody tr th:only-of-type {\n",
       "        vertical-align: middle;\n",
       "    }\n",
       "\n",
       "    .dataframe tbody tr th {\n",
       "        vertical-align: top;\n",
       "    }\n",
       "\n",
       "    .dataframe thead th {\n",
       "        text-align: right;\n",
       "    }\n",
       "</style>\n",
       "<table border=\"1\" class=\"dataframe\">\n",
       "  <thead>\n",
       "    <tr style=\"text-align: right;\">\n",
       "      <th></th>\n",
       "      <th>buying_price</th>\n",
       "      <th>maintainence_cost</th>\n",
       "      <th>number_of_doors</th>\n",
       "      <th>number_of_seats</th>\n",
       "      <th>luggage_boot_size</th>\n",
       "      <th>safety_rating</th>\n",
       "      <th>popularity</th>\n",
       "      <th>norm_buying_price</th>\n",
       "      <th>sr_buying_price</th>\n",
       "      <th>norm_maintainence_cost</th>\n",
       "      <th>sr_maintainence_cost</th>\n",
       "      <th>norm_luggage_boot_size</th>\n",
       "      <th>sr_luggage_boot_size</th>\n",
       "      <th>norm_safety_rating</th>\n",
       "      <th>sr_safety_rating</th>\n",
       "    </tr>\n",
       "  </thead>\n",
       "  <tbody>\n",
       "    <tr>\n",
       "      <th>0</th>\n",
       "      <td>3</td>\n",
       "      <td>2</td>\n",
       "      <td>4</td>\n",
       "      <td>2</td>\n",
       "      <td>2</td>\n",
       "      <td>2</td>\n",
       "      <td>1</td>\n",
       "      <td>0.75</td>\n",
       "      <td>0.258600</td>\n",
       "      <td>0.50</td>\n",
       "      <td>0.248157</td>\n",
       "      <td>0.666667</td>\n",
       "      <td>0.333538</td>\n",
       "      <td>0.666667</td>\n",
       "      <td>0.328010</td>\n",
       "    </tr>\n",
       "    <tr>\n",
       "      <th>1</th>\n",
       "      <td>3</td>\n",
       "      <td>2</td>\n",
       "      <td>2</td>\n",
       "      <td>5</td>\n",
       "      <td>2</td>\n",
       "      <td>1</td>\n",
       "      <td>1</td>\n",
       "      <td>0.75</td>\n",
       "      <td>0.258600</td>\n",
       "      <td>0.50</td>\n",
       "      <td>0.248157</td>\n",
       "      <td>0.666667</td>\n",
       "      <td>0.333538</td>\n",
       "      <td>0.333333</td>\n",
       "      <td>0.347052</td>\n",
       "    </tr>\n",
       "    <tr>\n",
       "      <th>2</th>\n",
       "      <td>1</td>\n",
       "      <td>4</td>\n",
       "      <td>2</td>\n",
       "      <td>5</td>\n",
       "      <td>1</td>\n",
       "      <td>3</td>\n",
       "      <td>1</td>\n",
       "      <td>0.25</td>\n",
       "      <td>0.235872</td>\n",
       "      <td>1.00</td>\n",
       "      <td>0.257985</td>\n",
       "      <td>0.333333</td>\n",
       "      <td>0.339681</td>\n",
       "      <td>1.000000</td>\n",
       "      <td>0.324939</td>\n",
       "    </tr>\n",
       "    <tr>\n",
       "      <th>3</th>\n",
       "      <td>4</td>\n",
       "      <td>4</td>\n",
       "      <td>2</td>\n",
       "      <td>2</td>\n",
       "      <td>1</td>\n",
       "      <td>2</td>\n",
       "      <td>1</td>\n",
       "      <td>1.00</td>\n",
       "      <td>0.254914</td>\n",
       "      <td>1.00</td>\n",
       "      <td>0.257985</td>\n",
       "      <td>0.333333</td>\n",
       "      <td>0.339681</td>\n",
       "      <td>0.666667</td>\n",
       "      <td>0.328010</td>\n",
       "    </tr>\n",
       "    <tr>\n",
       "      <th>4</th>\n",
       "      <td>3</td>\n",
       "      <td>3</td>\n",
       "      <td>3</td>\n",
       "      <td>4</td>\n",
       "      <td>3</td>\n",
       "      <td>3</td>\n",
       "      <td>2</td>\n",
       "      <td>0.75</td>\n",
       "      <td>0.258600</td>\n",
       "      <td>0.75</td>\n",
       "      <td>0.253071</td>\n",
       "      <td>1.000000</td>\n",
       "      <td>0.326781</td>\n",
       "      <td>1.000000</td>\n",
       "      <td>0.324939</td>\n",
       "    </tr>\n",
       "  </tbody>\n",
       "</table>\n",
       "</div>"
      ],
      "text/plain": [
       "   buying_price  maintainence_cost  number_of_doors  number_of_seats  \\\n",
       "0             3                  2                4                2   \n",
       "1             3                  2                2                5   \n",
       "2             1                  4                2                5   \n",
       "3             4                  4                2                2   \n",
       "4             3                  3                3                4   \n",
       "\n",
       "   luggage_boot_size  safety_rating  popularity  norm_buying_price  \\\n",
       "0                  2              2           1               0.75   \n",
       "1                  2              1           1               0.75   \n",
       "2                  1              3           1               0.25   \n",
       "3                  1              2           1               1.00   \n",
       "4                  3              3           2               0.75   \n",
       "\n",
       "   sr_buying_price  norm_maintainence_cost  sr_maintainence_cost  \\\n",
       "0         0.258600                    0.50              0.248157   \n",
       "1         0.258600                    0.50              0.248157   \n",
       "2         0.235872                    1.00              0.257985   \n",
       "3         0.254914                    1.00              0.257985   \n",
       "4         0.258600                    0.75              0.253071   \n",
       "\n",
       "   norm_luggage_boot_size  sr_luggage_boot_size  norm_safety_rating  \\\n",
       "0                0.666667              0.333538            0.666667   \n",
       "1                0.666667              0.333538            0.333333   \n",
       "2                0.333333              0.339681            1.000000   \n",
       "3                0.333333              0.339681            0.666667   \n",
       "4                1.000000              0.326781            1.000000   \n",
       "\n",
       "   sr_safety_rating  \n",
       "0          0.328010  \n",
       "1          0.347052  \n",
       "2          0.324939  \n",
       "3          0.328010  \n",
       "4          0.324939  "
      ]
     },
     "execution_count": 12,
     "metadata": {},
     "output_type": "execute_result"
    }
   ],
   "source": [
    "train.head()"
   ]
  },
  {
   "cell_type": "code",
   "execution_count": 13,
   "metadata": {},
   "outputs": [
    {
     "data": {
      "text/html": [
       "<div>\n",
       "<style scoped>\n",
       "    .dataframe tbody tr th:only-of-type {\n",
       "        vertical-align: middle;\n",
       "    }\n",
       "\n",
       "    .dataframe tbody tr th {\n",
       "        vertical-align: top;\n",
       "    }\n",
       "\n",
       "    .dataframe thead th {\n",
       "        text-align: right;\n",
       "    }\n",
       "</style>\n",
       "<table border=\"1\" class=\"dataframe\">\n",
       "  <thead>\n",
       "    <tr style=\"text-align: right;\">\n",
       "      <th></th>\n",
       "      <th>buying_price</th>\n",
       "      <th>maintainence_cost</th>\n",
       "      <th>number_of_doors</th>\n",
       "      <th>number_of_seats</th>\n",
       "      <th>luggage_boot_size</th>\n",
       "      <th>safety_rating</th>\n",
       "      <th>norm_buying_price</th>\n",
       "      <th>sr_buying_price</th>\n",
       "      <th>norm_maintainence_cost</th>\n",
       "      <th>sr_maintainence_cost</th>\n",
       "      <th>norm_luggage_boot_size</th>\n",
       "      <th>sr_luggage_boot_size</th>\n",
       "      <th>norm_safety_rating</th>\n",
       "      <th>sr_safety_rating</th>\n",
       "    </tr>\n",
       "  </thead>\n",
       "  <tbody>\n",
       "    <tr>\n",
       "      <th>0</th>\n",
       "      <td>4</td>\n",
       "      <td>1</td>\n",
       "      <td>2</td>\n",
       "      <td>2</td>\n",
       "      <td>2</td>\n",
       "      <td>2</td>\n",
       "      <td>1.0</td>\n",
       "      <td>0.17</td>\n",
       "      <td>0.25</td>\n",
       "      <td>0.40</td>\n",
       "      <td>0.666667</td>\n",
       "      <td>0.33</td>\n",
       "      <td>0.666667</td>\n",
       "      <td>0.42</td>\n",
       "    </tr>\n",
       "    <tr>\n",
       "      <th>1</th>\n",
       "      <td>2</td>\n",
       "      <td>1</td>\n",
       "      <td>3</td>\n",
       "      <td>4</td>\n",
       "      <td>3</td>\n",
       "      <td>2</td>\n",
       "      <td>0.5</td>\n",
       "      <td>0.24</td>\n",
       "      <td>0.25</td>\n",
       "      <td>0.40</td>\n",
       "      <td>1.000000</td>\n",
       "      <td>0.44</td>\n",
       "      <td>0.666667</td>\n",
       "      <td>0.42</td>\n",
       "    </tr>\n",
       "    <tr>\n",
       "      <th>2</th>\n",
       "      <td>4</td>\n",
       "      <td>4</td>\n",
       "      <td>2</td>\n",
       "      <td>5</td>\n",
       "      <td>1</td>\n",
       "      <td>2</td>\n",
       "      <td>1.0</td>\n",
       "      <td>0.17</td>\n",
       "      <td>1.00</td>\n",
       "      <td>0.12</td>\n",
       "      <td>0.333333</td>\n",
       "      <td>0.23</td>\n",
       "      <td>0.666667</td>\n",
       "      <td>0.42</td>\n",
       "    </tr>\n",
       "    <tr>\n",
       "      <th>3</th>\n",
       "      <td>4</td>\n",
       "      <td>3</td>\n",
       "      <td>3</td>\n",
       "      <td>2</td>\n",
       "      <td>2</td>\n",
       "      <td>2</td>\n",
       "      <td>1.0</td>\n",
       "      <td>0.17</td>\n",
       "      <td>0.75</td>\n",
       "      <td>0.20</td>\n",
       "      <td>0.666667</td>\n",
       "      <td>0.33</td>\n",
       "      <td>0.666667</td>\n",
       "      <td>0.42</td>\n",
       "    </tr>\n",
       "    <tr>\n",
       "      <th>4</th>\n",
       "      <td>4</td>\n",
       "      <td>2</td>\n",
       "      <td>2</td>\n",
       "      <td>4</td>\n",
       "      <td>3</td>\n",
       "      <td>2</td>\n",
       "      <td>1.0</td>\n",
       "      <td>0.17</td>\n",
       "      <td>0.50</td>\n",
       "      <td>0.28</td>\n",
       "      <td>1.000000</td>\n",
       "      <td>0.44</td>\n",
       "      <td>0.666667</td>\n",
       "      <td>0.42</td>\n",
       "    </tr>\n",
       "  </tbody>\n",
       "</table>\n",
       "</div>"
      ],
      "text/plain": [
       "   buying_price  maintainence_cost  number_of_doors  number_of_seats  \\\n",
       "0             4                  1                2                2   \n",
       "1             2                  1                3                4   \n",
       "2             4                  4                2                5   \n",
       "3             4                  3                3                2   \n",
       "4             4                  2                2                4   \n",
       "\n",
       "   luggage_boot_size  safety_rating  norm_buying_price  sr_buying_price  \\\n",
       "0                  2              2                1.0             0.17   \n",
       "1                  3              2                0.5             0.24   \n",
       "2                  1              2                1.0             0.17   \n",
       "3                  2              2                1.0             0.17   \n",
       "4                  3              2                1.0             0.17   \n",
       "\n",
       "   norm_maintainence_cost  sr_maintainence_cost  norm_luggage_boot_size  \\\n",
       "0                    0.25                  0.40                0.666667   \n",
       "1                    0.25                  0.40                1.000000   \n",
       "2                    1.00                  0.12                0.333333   \n",
       "3                    0.75                  0.20                0.666667   \n",
       "4                    0.50                  0.28                1.000000   \n",
       "\n",
       "   sr_luggage_boot_size  norm_safety_rating  sr_safety_rating  \n",
       "0                  0.33            0.666667              0.42  \n",
       "1                  0.44            0.666667              0.42  \n",
       "2                  0.23            0.666667              0.42  \n",
       "3                  0.33            0.666667              0.42  \n",
       "4                  0.44            0.666667              0.42  "
      ]
     },
     "execution_count": 13,
     "metadata": {},
     "output_type": "execute_result"
    }
   ],
   "source": [
    "test.head()"
   ]
  },
  {
   "cell_type": "code",
   "execution_count": 14,
   "metadata": {},
   "outputs": [],
   "source": [
    "train.drop(['buying_price','maintainence_cost','luggage_boot_size','safety_rating'], axis=1,inplace=True)\n",
    "test.drop(['buying_price','maintainence_cost','luggage_boot_size','safety_rating'], axis=1,inplace=True)"
   ]
  },
  {
   "cell_type": "code",
   "execution_count": 15,
   "metadata": {},
   "outputs": [
    {
     "data": {
      "text/html": [
       "<div>\n",
       "<style scoped>\n",
       "    .dataframe tbody tr th:only-of-type {\n",
       "        vertical-align: middle;\n",
       "    }\n",
       "\n",
       "    .dataframe tbody tr th {\n",
       "        vertical-align: top;\n",
       "    }\n",
       "\n",
       "    .dataframe thead th {\n",
       "        text-align: right;\n",
       "    }\n",
       "</style>\n",
       "<table border=\"1\" class=\"dataframe\">\n",
       "  <thead>\n",
       "    <tr style=\"text-align: right;\">\n",
       "      <th></th>\n",
       "      <th>number_of_doors</th>\n",
       "      <th>number_of_seats</th>\n",
       "      <th>popularity</th>\n",
       "      <th>norm_buying_price</th>\n",
       "      <th>sr_buying_price</th>\n",
       "      <th>norm_maintainence_cost</th>\n",
       "      <th>sr_maintainence_cost</th>\n",
       "      <th>norm_luggage_boot_size</th>\n",
       "      <th>sr_luggage_boot_size</th>\n",
       "      <th>norm_safety_rating</th>\n",
       "      <th>sr_safety_rating</th>\n",
       "    </tr>\n",
       "  </thead>\n",
       "  <tbody>\n",
       "    <tr>\n",
       "      <th>0</th>\n",
       "      <td>4</td>\n",
       "      <td>2</td>\n",
       "      <td>1</td>\n",
       "      <td>0.75</td>\n",
       "      <td>0.258600</td>\n",
       "      <td>0.50</td>\n",
       "      <td>0.248157</td>\n",
       "      <td>0.666667</td>\n",
       "      <td>0.333538</td>\n",
       "      <td>0.666667</td>\n",
       "      <td>0.328010</td>\n",
       "    </tr>\n",
       "    <tr>\n",
       "      <th>1</th>\n",
       "      <td>2</td>\n",
       "      <td>5</td>\n",
       "      <td>1</td>\n",
       "      <td>0.75</td>\n",
       "      <td>0.258600</td>\n",
       "      <td>0.50</td>\n",
       "      <td>0.248157</td>\n",
       "      <td>0.666667</td>\n",
       "      <td>0.333538</td>\n",
       "      <td>0.333333</td>\n",
       "      <td>0.347052</td>\n",
       "    </tr>\n",
       "    <tr>\n",
       "      <th>2</th>\n",
       "      <td>2</td>\n",
       "      <td>5</td>\n",
       "      <td>1</td>\n",
       "      <td>0.25</td>\n",
       "      <td>0.235872</td>\n",
       "      <td>1.00</td>\n",
       "      <td>0.257985</td>\n",
       "      <td>0.333333</td>\n",
       "      <td>0.339681</td>\n",
       "      <td>1.000000</td>\n",
       "      <td>0.324939</td>\n",
       "    </tr>\n",
       "    <tr>\n",
       "      <th>3</th>\n",
       "      <td>2</td>\n",
       "      <td>2</td>\n",
       "      <td>1</td>\n",
       "      <td>1.00</td>\n",
       "      <td>0.254914</td>\n",
       "      <td>1.00</td>\n",
       "      <td>0.257985</td>\n",
       "      <td>0.333333</td>\n",
       "      <td>0.339681</td>\n",
       "      <td>0.666667</td>\n",
       "      <td>0.328010</td>\n",
       "    </tr>\n",
       "    <tr>\n",
       "      <th>4</th>\n",
       "      <td>3</td>\n",
       "      <td>4</td>\n",
       "      <td>2</td>\n",
       "      <td>0.75</td>\n",
       "      <td>0.258600</td>\n",
       "      <td>0.75</td>\n",
       "      <td>0.253071</td>\n",
       "      <td>1.000000</td>\n",
       "      <td>0.326781</td>\n",
       "      <td>1.000000</td>\n",
       "      <td>0.324939</td>\n",
       "    </tr>\n",
       "  </tbody>\n",
       "</table>\n",
       "</div>"
      ],
      "text/plain": [
       "   number_of_doors  number_of_seats  popularity  norm_buying_price  \\\n",
       "0                4                2           1               0.75   \n",
       "1                2                5           1               0.75   \n",
       "2                2                5           1               0.25   \n",
       "3                2                2           1               1.00   \n",
       "4                3                4           2               0.75   \n",
       "\n",
       "   sr_buying_price  norm_maintainence_cost  sr_maintainence_cost  \\\n",
       "0         0.258600                    0.50              0.248157   \n",
       "1         0.258600                    0.50              0.248157   \n",
       "2         0.235872                    1.00              0.257985   \n",
       "3         0.254914                    1.00              0.257985   \n",
       "4         0.258600                    0.75              0.253071   \n",
       "\n",
       "   norm_luggage_boot_size  sr_luggage_boot_size  norm_safety_rating  \\\n",
       "0                0.666667              0.333538            0.666667   \n",
       "1                0.666667              0.333538            0.333333   \n",
       "2                0.333333              0.339681            1.000000   \n",
       "3                0.333333              0.339681            0.666667   \n",
       "4                1.000000              0.326781            1.000000   \n",
       "\n",
       "   sr_safety_rating  \n",
       "0          0.328010  \n",
       "1          0.347052  \n",
       "2          0.324939  \n",
       "3          0.328010  \n",
       "4          0.324939  "
      ]
     },
     "execution_count": 15,
     "metadata": {},
     "output_type": "execute_result"
    }
   ],
   "source": [
    "train.head()"
   ]
  },
  {
   "cell_type": "code",
   "execution_count": 16,
   "metadata": {},
   "outputs": [],
   "source": [
    "def transform_dummy(data, col_list):\n",
    "    for col in col_list:\n",
    "        dumy = pd.get_dummies(data[col],prefix=col)\n",
    "        data = pd.concat([data,dumy],axis=1)\n",
    "        data.drop(col,axis=1,inplace=True)\n",
    "    return data"
   ]
  },
  {
   "cell_type": "code",
   "execution_count": 17,
   "metadata": {},
   "outputs": [],
   "source": [
    "train = transform_dummy(train,['number_of_doors','number_of_seats'])\n",
    "test = transform_dummy(test,['number_of_doors','number_of_seats'])"
   ]
  },
  {
   "cell_type": "code",
   "execution_count": 18,
   "metadata": {},
   "outputs": [
    {
     "data": {
      "text/html": [
       "<div>\n",
       "<style scoped>\n",
       "    .dataframe tbody tr th:only-of-type {\n",
       "        vertical-align: middle;\n",
       "    }\n",
       "\n",
       "    .dataframe tbody tr th {\n",
       "        vertical-align: top;\n",
       "    }\n",
       "\n",
       "    .dataframe thead th {\n",
       "        text-align: right;\n",
       "    }\n",
       "</style>\n",
       "<table border=\"1\" class=\"dataframe\">\n",
       "  <thead>\n",
       "    <tr style=\"text-align: right;\">\n",
       "      <th></th>\n",
       "      <th>popularity</th>\n",
       "      <th>norm_buying_price</th>\n",
       "      <th>sr_buying_price</th>\n",
       "      <th>norm_maintainence_cost</th>\n",
       "      <th>sr_maintainence_cost</th>\n",
       "      <th>norm_luggage_boot_size</th>\n",
       "      <th>sr_luggage_boot_size</th>\n",
       "      <th>norm_safety_rating</th>\n",
       "      <th>sr_safety_rating</th>\n",
       "      <th>number_of_doors_2</th>\n",
       "      <th>number_of_doors_3</th>\n",
       "      <th>number_of_doors_4</th>\n",
       "      <th>number_of_doors_5</th>\n",
       "      <th>number_of_seats_2</th>\n",
       "      <th>number_of_seats_4</th>\n",
       "      <th>number_of_seats_5</th>\n",
       "    </tr>\n",
       "  </thead>\n",
       "  <tbody>\n",
       "    <tr>\n",
       "      <th>0</th>\n",
       "      <td>1</td>\n",
       "      <td>0.75</td>\n",
       "      <td>0.258600</td>\n",
       "      <td>0.50</td>\n",
       "      <td>0.248157</td>\n",
       "      <td>0.666667</td>\n",
       "      <td>0.333538</td>\n",
       "      <td>0.666667</td>\n",
       "      <td>0.328010</td>\n",
       "      <td>0</td>\n",
       "      <td>0</td>\n",
       "      <td>1</td>\n",
       "      <td>0</td>\n",
       "      <td>1</td>\n",
       "      <td>0</td>\n",
       "      <td>0</td>\n",
       "    </tr>\n",
       "    <tr>\n",
       "      <th>1</th>\n",
       "      <td>1</td>\n",
       "      <td>0.75</td>\n",
       "      <td>0.258600</td>\n",
       "      <td>0.50</td>\n",
       "      <td>0.248157</td>\n",
       "      <td>0.666667</td>\n",
       "      <td>0.333538</td>\n",
       "      <td>0.333333</td>\n",
       "      <td>0.347052</td>\n",
       "      <td>1</td>\n",
       "      <td>0</td>\n",
       "      <td>0</td>\n",
       "      <td>0</td>\n",
       "      <td>0</td>\n",
       "      <td>0</td>\n",
       "      <td>1</td>\n",
       "    </tr>\n",
       "    <tr>\n",
       "      <th>2</th>\n",
       "      <td>1</td>\n",
       "      <td>0.25</td>\n",
       "      <td>0.235872</td>\n",
       "      <td>1.00</td>\n",
       "      <td>0.257985</td>\n",
       "      <td>0.333333</td>\n",
       "      <td>0.339681</td>\n",
       "      <td>1.000000</td>\n",
       "      <td>0.324939</td>\n",
       "      <td>1</td>\n",
       "      <td>0</td>\n",
       "      <td>0</td>\n",
       "      <td>0</td>\n",
       "      <td>0</td>\n",
       "      <td>0</td>\n",
       "      <td>1</td>\n",
       "    </tr>\n",
       "    <tr>\n",
       "      <th>3</th>\n",
       "      <td>1</td>\n",
       "      <td>1.00</td>\n",
       "      <td>0.254914</td>\n",
       "      <td>1.00</td>\n",
       "      <td>0.257985</td>\n",
       "      <td>0.333333</td>\n",
       "      <td>0.339681</td>\n",
       "      <td>0.666667</td>\n",
       "      <td>0.328010</td>\n",
       "      <td>1</td>\n",
       "      <td>0</td>\n",
       "      <td>0</td>\n",
       "      <td>0</td>\n",
       "      <td>1</td>\n",
       "      <td>0</td>\n",
       "      <td>0</td>\n",
       "    </tr>\n",
       "    <tr>\n",
       "      <th>4</th>\n",
       "      <td>2</td>\n",
       "      <td>0.75</td>\n",
       "      <td>0.258600</td>\n",
       "      <td>0.75</td>\n",
       "      <td>0.253071</td>\n",
       "      <td>1.000000</td>\n",
       "      <td>0.326781</td>\n",
       "      <td>1.000000</td>\n",
       "      <td>0.324939</td>\n",
       "      <td>0</td>\n",
       "      <td>1</td>\n",
       "      <td>0</td>\n",
       "      <td>0</td>\n",
       "      <td>0</td>\n",
       "      <td>1</td>\n",
       "      <td>0</td>\n",
       "    </tr>\n",
       "  </tbody>\n",
       "</table>\n",
       "</div>"
      ],
      "text/plain": [
       "   popularity  norm_buying_price  sr_buying_price  norm_maintainence_cost  \\\n",
       "0           1               0.75         0.258600                    0.50   \n",
       "1           1               0.75         0.258600                    0.50   \n",
       "2           1               0.25         0.235872                    1.00   \n",
       "3           1               1.00         0.254914                    1.00   \n",
       "4           2               0.75         0.258600                    0.75   \n",
       "\n",
       "   sr_maintainence_cost  norm_luggage_boot_size  sr_luggage_boot_size  \\\n",
       "0              0.248157                0.666667              0.333538   \n",
       "1              0.248157                0.666667              0.333538   \n",
       "2              0.257985                0.333333              0.339681   \n",
       "3              0.257985                0.333333              0.339681   \n",
       "4              0.253071                1.000000              0.326781   \n",
       "\n",
       "   norm_safety_rating  sr_safety_rating  number_of_doors_2  number_of_doors_3  \\\n",
       "0            0.666667          0.328010                  0                  0   \n",
       "1            0.333333          0.347052                  1                  0   \n",
       "2            1.000000          0.324939                  1                  0   \n",
       "3            0.666667          0.328010                  1                  0   \n",
       "4            1.000000          0.324939                  0                  1   \n",
       "\n",
       "   number_of_doors_4  number_of_doors_5  number_of_seats_2  number_of_seats_4  \\\n",
       "0                  1                  0                  1                  0   \n",
       "1                  0                  0                  0                  0   \n",
       "2                  0                  0                  0                  0   \n",
       "3                  0                  0                  1                  0   \n",
       "4                  0                  0                  0                  1   \n",
       "\n",
       "   number_of_seats_5  \n",
       "0                  0  \n",
       "1                  1  \n",
       "2                  1  \n",
       "3                  0  \n",
       "4                  0  "
      ]
     },
     "execution_count": 18,
     "metadata": {},
     "output_type": "execute_result"
    }
   ],
   "source": [
    "train.head()"
   ]
  },
  {
   "cell_type": "code",
   "execution_count": 19,
   "metadata": {},
   "outputs": [
    {
     "data": {
      "text/html": [
       "<div>\n",
       "<style scoped>\n",
       "    .dataframe tbody tr th:only-of-type {\n",
       "        vertical-align: middle;\n",
       "    }\n",
       "\n",
       "    .dataframe tbody tr th {\n",
       "        vertical-align: top;\n",
       "    }\n",
       "\n",
       "    .dataframe thead th {\n",
       "        text-align: right;\n",
       "    }\n",
       "</style>\n",
       "<table border=\"1\" class=\"dataframe\">\n",
       "  <thead>\n",
       "    <tr style=\"text-align: right;\">\n",
       "      <th></th>\n",
       "      <th>norm_buying_price</th>\n",
       "      <th>sr_buying_price</th>\n",
       "      <th>norm_maintainence_cost</th>\n",
       "      <th>sr_maintainence_cost</th>\n",
       "      <th>norm_luggage_boot_size</th>\n",
       "      <th>sr_luggage_boot_size</th>\n",
       "      <th>norm_safety_rating</th>\n",
       "      <th>sr_safety_rating</th>\n",
       "      <th>number_of_doors_2</th>\n",
       "      <th>number_of_doors_3</th>\n",
       "      <th>number_of_doors_4</th>\n",
       "      <th>number_of_doors_5</th>\n",
       "      <th>number_of_seats_2</th>\n",
       "      <th>number_of_seats_4</th>\n",
       "      <th>number_of_seats_5</th>\n",
       "    </tr>\n",
       "  </thead>\n",
       "  <tbody>\n",
       "    <tr>\n",
       "      <th>0</th>\n",
       "      <td>1.0</td>\n",
       "      <td>0.17</td>\n",
       "      <td>0.25</td>\n",
       "      <td>0.40</td>\n",
       "      <td>0.666667</td>\n",
       "      <td>0.33</td>\n",
       "      <td>0.666667</td>\n",
       "      <td>0.42</td>\n",
       "      <td>1</td>\n",
       "      <td>0</td>\n",
       "      <td>0</td>\n",
       "      <td>0</td>\n",
       "      <td>1</td>\n",
       "      <td>0</td>\n",
       "      <td>0</td>\n",
       "    </tr>\n",
       "    <tr>\n",
       "      <th>1</th>\n",
       "      <td>0.5</td>\n",
       "      <td>0.24</td>\n",
       "      <td>0.25</td>\n",
       "      <td>0.40</td>\n",
       "      <td>1.000000</td>\n",
       "      <td>0.44</td>\n",
       "      <td>0.666667</td>\n",
       "      <td>0.42</td>\n",
       "      <td>0</td>\n",
       "      <td>1</td>\n",
       "      <td>0</td>\n",
       "      <td>0</td>\n",
       "      <td>0</td>\n",
       "      <td>1</td>\n",
       "      <td>0</td>\n",
       "    </tr>\n",
       "    <tr>\n",
       "      <th>2</th>\n",
       "      <td>1.0</td>\n",
       "      <td>0.17</td>\n",
       "      <td>1.00</td>\n",
       "      <td>0.12</td>\n",
       "      <td>0.333333</td>\n",
       "      <td>0.23</td>\n",
       "      <td>0.666667</td>\n",
       "      <td>0.42</td>\n",
       "      <td>1</td>\n",
       "      <td>0</td>\n",
       "      <td>0</td>\n",
       "      <td>0</td>\n",
       "      <td>0</td>\n",
       "      <td>0</td>\n",
       "      <td>1</td>\n",
       "    </tr>\n",
       "    <tr>\n",
       "      <th>3</th>\n",
       "      <td>1.0</td>\n",
       "      <td>0.17</td>\n",
       "      <td>0.75</td>\n",
       "      <td>0.20</td>\n",
       "      <td>0.666667</td>\n",
       "      <td>0.33</td>\n",
       "      <td>0.666667</td>\n",
       "      <td>0.42</td>\n",
       "      <td>0</td>\n",
       "      <td>1</td>\n",
       "      <td>0</td>\n",
       "      <td>0</td>\n",
       "      <td>1</td>\n",
       "      <td>0</td>\n",
       "      <td>0</td>\n",
       "    </tr>\n",
       "    <tr>\n",
       "      <th>4</th>\n",
       "      <td>1.0</td>\n",
       "      <td>0.17</td>\n",
       "      <td>0.50</td>\n",
       "      <td>0.28</td>\n",
       "      <td>1.000000</td>\n",
       "      <td>0.44</td>\n",
       "      <td>0.666667</td>\n",
       "      <td>0.42</td>\n",
       "      <td>1</td>\n",
       "      <td>0</td>\n",
       "      <td>0</td>\n",
       "      <td>0</td>\n",
       "      <td>0</td>\n",
       "      <td>1</td>\n",
       "      <td>0</td>\n",
       "    </tr>\n",
       "  </tbody>\n",
       "</table>\n",
       "</div>"
      ],
      "text/plain": [
       "   norm_buying_price  sr_buying_price  norm_maintainence_cost  \\\n",
       "0                1.0             0.17                    0.25   \n",
       "1                0.5             0.24                    0.25   \n",
       "2                1.0             0.17                    1.00   \n",
       "3                1.0             0.17                    0.75   \n",
       "4                1.0             0.17                    0.50   \n",
       "\n",
       "   sr_maintainence_cost  norm_luggage_boot_size  sr_luggage_boot_size  \\\n",
       "0                  0.40                0.666667                  0.33   \n",
       "1                  0.40                1.000000                  0.44   \n",
       "2                  0.12                0.333333                  0.23   \n",
       "3                  0.20                0.666667                  0.33   \n",
       "4                  0.28                1.000000                  0.44   \n",
       "\n",
       "   norm_safety_rating  sr_safety_rating  number_of_doors_2  number_of_doors_3  \\\n",
       "0            0.666667              0.42                  1                  0   \n",
       "1            0.666667              0.42                  0                  1   \n",
       "2            0.666667              0.42                  1                  0   \n",
       "3            0.666667              0.42                  0                  1   \n",
       "4            0.666667              0.42                  1                  0   \n",
       "\n",
       "   number_of_doors_4  number_of_doors_5  number_of_seats_2  number_of_seats_4  \\\n",
       "0                  0                  0                  1                  0   \n",
       "1                  0                  0                  0                  1   \n",
       "2                  0                  0                  0                  0   \n",
       "3                  0                  0                  1                  0   \n",
       "4                  0                  0                  0                  1   \n",
       "\n",
       "   number_of_seats_5  \n",
       "0                  0  \n",
       "1                  0  \n",
       "2                  1  \n",
       "3                  0  \n",
       "4                  0  "
      ]
     },
     "execution_count": 19,
     "metadata": {},
     "output_type": "execute_result"
    }
   ],
   "source": [
    "test.head()"
   ]
  },
  {
   "cell_type": "code",
   "execution_count": 20,
   "metadata": {},
   "outputs": [],
   "source": [
    "raw_data = pd.read_csv('data/train.csv')"
   ]
  },
  {
   "cell_type": "code",
   "execution_count": 21,
   "metadata": {},
   "outputs": [
    {
     "data": {
      "text/plain": [
       "1    1185\n",
       "2     359\n",
       "3      44\n",
       "4      40\n",
       "Name: popularity, dtype: int64"
      ]
     },
     "execution_count": 21,
     "metadata": {},
     "output_type": "execute_result"
    }
   ],
   "source": [
    "raw_data['popularity'].value_counts()"
   ]
  },
  {
   "cell_type": "code",
   "execution_count": 22,
   "metadata": {},
   "outputs": [],
   "source": [
    "def plot_categories( df , cat , target , **kwargs ):\n",
    "    row = kwargs.get( 'row' , None )\n",
    "    col = kwargs.get( 'col' , None )\n",
    "    facet = sns.FacetGrid( df , row = row , col = col )\n",
    "    facet.map( sns.barplot , cat , target )\n",
    "    facet.add_legend()"
   ]
  },
  {
   "cell_type": "code",
   "execution_count": 23,
   "metadata": {},
   "outputs": [
    {
     "name": "stderr",
     "output_type": "stream",
     "text": [
      "f:\\Users\\Tahar\\Anacondanew\\envs\\ztdl\\lib\\site-packages\\seaborn\\axisgrid.py:703: UserWarning: Using the barplot function without specifying `order` is likely to produce an incorrect plot.\n",
      "  warnings.warn(warning)\n"
     ]
    },
    {
     "data": {
      "image/png": "[encoded data removed]",
      "text/plain": [
       "<matplotlib.figure.Figure at 0xbb9fb53668>"
      ]
     },
     "metadata": {},
     "output_type": "display_data"
    },
    {
     "data": {
      "image/png": "[encoded data removed]",
      "text/plain": [
       "<matplotlib.figure.Figure at 0xbb9fbeb080>"
      ]
     },
     "metadata": {},
     "output_type": "display_data"
    },
    {
     "data": {
      "image/png": "[encoded data removed]",
      "text/plain": [
       "<matplotlib.figure.Figure at 0xbb9fc94eb8>"
      ]
     },
     "metadata": {},
     "output_type": "display_data"
    },
    {
     "data": {
      "image/png": "[encoded data removed]",
      "text/plain": [
       "<matplotlib.figure.Figure at 0xbba0cb2438>"
      ]
     },
     "metadata": {},
     "output_type": "display_data"
    },
    {
     "data": {
      "image/png": "[encoded data removed]",
      "text/plain": [
       "<matplotlib.figure.Figure at 0xbba0cdca90>"
      ]
     },
     "metadata": {},
     "output_type": "display_data"
    },
    {
     "data": {
      "image/png": "[encoded data removed]",
      "text/plain": [
       "<matplotlib.figure.Figure at 0xbb9fc83f28>"
      ]
     },
     "metadata": {},
     "output_type": "display_data"
    }
   ],
   "source": [
    "for i in ['buying_price','maintainence_cost','number_of_doors','number_of_seats','luggage_boot_size','safety_rating']:\n",
    "    plot_categories(raw_data , cat = i , target = 'popularity' )"
   ]
  },
  {
   "cell_type": "markdown",
   "metadata": {},
   "source": [
    "## Model"
   ]
  },
  {
   "cell_type": "code",
   "execution_count": 24,
   "metadata": {},
   "outputs": [
    {
     "data": {
      "text/plain": [
       "<matplotlib.axes._subplots.AxesSubplot at 0xbba0d4f4e0>"
      ]
     },
     "execution_count": 24,
     "metadata": {},
     "output_type": "execute_result"
    },
    {
     "data": {
      "image/png": "[encoded data removed]",
      "text/plain": [
       "<matplotlib.figure.Figure at 0xbba0d10400>"
      ]
     },
     "metadata": {},
     "output_type": "display_data"
    }
   ],
   "source": [
    "corrmat = train.corr()\n",
    "plt.subplots(figsize=(12,9))\n",
    "sns.heatmap(corrmat, vmax=0.9, square=True, cmap=sns.diverging_palette( 220 , 10 , as_cmap = True ))"
   ]
  },
  {
   "cell_type": "code",
   "execution_count": 25,
   "metadata": {},
   "outputs": [
    {
     "data": {
      "text/plain": [
       "(1628, 16)"
      ]
     },
     "execution_count": 25,
     "metadata": {},
     "output_type": "execute_result"
    }
   ],
   "source": [
    "train.shape"
   ]
  },
  {
   "cell_type": "code",
   "execution_count": 26,
   "metadata": {},
   "outputs": [],
   "source": [
    "msk = np.random.rand(len(train)) < 0.8"
   ]
  },
  {
   "cell_type": "code",
   "execution_count": 27,
   "metadata": {},
   "outputs": [],
   "source": [
    "# split train data between Train and Test sets\n",
    "train_set = train[msk]\n",
    "test_set = train[~msk]"
   ]
  },
  {
   "cell_type": "code",
   "execution_count": 28,
   "metadata": {},
   "outputs": [
    {
     "data": {
      "text/plain": [
       "((1294, 16), (334, 16))"
      ]
     },
     "execution_count": 28,
     "metadata": {},
     "output_type": "execute_result"
    }
   ],
   "source": [
    "train_set.shape, test_set.shape"
   ]
  },
  {
   "cell_type": "code",
   "execution_count": 29,
   "metadata": {},
   "outputs": [],
   "source": [
    "# exclude normalized features and add them in the meta classifier later\n",
    "X = train_set.drop(['popularity','norm_maintainence_cost','norm_luggage_boot_size','norm_safety_rating','norm_buying_price'],axis=1).values\n",
    "y = train_set['popularity'].values\n",
    "test_sub = test.values"
   ]
  },
  {
   "cell_type": "code",
   "execution_count": 30,
   "metadata": {},
   "outputs": [],
   "source": [
    "X_train, X_test, y_train, y_test = train_test_split(X, y, test_size=0.2, random_state=42, stratify=y)"
   ]
  },
  {
   "cell_type": "code",
   "execution_count": 31,
   "metadata": {},
   "outputs": [
    {
     "data": {
      "text/plain": [
       "((1035, 11), (259, 11))"
      ]
     },
     "execution_count": 31,
     "metadata": {},
     "output_type": "execute_result"
    }
   ],
   "source": [
    "X_train.shape, X_test.shape"
   ]
  },
  {
   "cell_type": "code",
   "execution_count": 32,
   "metadata": {},
   "outputs": [],
   "source": [
    "# there is class unbalance, use StratifiedKfold to keep correct proportions\n",
    "kfold = StratifiedKFold(n_splits=3, shuffle=True)"
   ]
  },
  {
   "cell_type": "code",
   "execution_count": 33,
   "metadata": {},
   "outputs": [],
   "source": [
    "# create a custom score based on competition specifications\n",
    "\n",
    "from sklearn.metrics.scorer import make_scorer\n",
    "def s_score(y,y_pred):\n",
    "    f1_score = []\n",
    "    s_nominator = []\n",
    "    s_denominator = []\n",
    "    for i in range(1,5):\n",
    "        y_tp = y_pred[(y_pred==i)&(y==i)]\n",
    "        y_tn = y_pred[(y_pred!=i)&(y!=i)]\n",
    "        y_fp  = y_pred[(y_pred==i)&(y!=i)]\n",
    "        y_fn  = y_pred[(y_pred!=i)&(y==i)]\n",
    "        try:\n",
    "            pr =  len(y_tp)/(len(y_tp)+len(y_fp))\n",
    "            re =  len(y_tp)/(len(y_tp)+len(y_fn))\n",
    "            f1 = 2*pr*re/(pr+re)\n",
    "        except:\n",
    "            pr = 0\n",
    "            re = 0\n",
    "            f1 = 0\n",
    "        finally:\n",
    "            f1_score.append(f1)\n",
    "            s_nominator.append(f1*len(y_tp))\n",
    "            s_denominator.append(len(y_tp))\n",
    "    return sum(s_nominator)/sum(s_denominator)*1000\n",
    "\n",
    "\n",
    "\n",
    "my_score = make_scorer(s_score)"
   ]
  },
  {
   "cell_type": "code",
   "execution_count": 34,
   "metadata": {},
   "outputs": [],
   "source": [
    "random_state = 22\n",
    "classifiers = [] # combine all alogorithms in a list\n",
    "classifiers.append(SVC(random_state=random_state))\n",
    "classifiers.append(AdaBoostClassifier(DecisionTreeClassifier(random_state=random_state),random_state=random_state,learning_rate=0.1))\n",
    "classifiers.append(RandomForestClassifier(random_state=random_state))\n",
    "classifiers.append(ExtraTreesClassifier(random_state=random_state))\n"
   ]
  },
  {
   "cell_type": "code",
   "execution_count": 35,
   "metadata": {},
   "outputs": [
    {
     "data": {
      "text/plain": [
       "Text(0.5,1,'Cross validation scores before hypertunning')"
      ]
     },
     "execution_count": 35,
     "metadata": {},
     "output_type": "execute_result"
    },
    {
     "data": {
      "image/png": "[encoded data removed]",
      "text/plain": [
       "<matplotlib.figure.Figure at 0xbb9fb1fc88>"
      ]
     },
     "metadata": {},
     "output_type": "display_data"
    }
   ],
   "source": [
    "cv_results = [] \n",
    "for classifier in classifiers:\n",
    "    cv_results.append(cross_val_score(classifier, X_train, y_train, scoring=my_score, cv=kfold, n_jobs=1))\n",
    "\n",
    "cv_means = []\n",
    "cv_std   = []\n",
    "\n",
    "for cv_result in cv_results:\n",
    "    cv_means.append(cv_result.mean())\n",
    "    cv_std.append(cv_result.std())\n",
    "    \n",
    "cv_df = pd.DataFrame({'CrossValMeans':cv_means,'CrossValerrors':cv_std,\n",
    "                      \"Algorithm\":['SVC','AdaBoost','RandomForest','ExtraTrees']})\n",
    "# Make a bar graph of cross validation results\n",
    "f = sns.barplot('CrossValMeans','Algorithm',data=cv_df,palette='Set3',orient='h', **{'xerr':cv_std})\n",
    "f.set_xlabel(\"Mean S score\")\n",
    "f.set_title('Cross validation scores before hypertunning')\n",
    "    \n",
    "    \n",
    "\n"
   ]
  },
  {
   "cell_type": "code",
   "execution_count": 36,
   "metadata": {},
   "outputs": [],
   "source": [
    "# This is a function to calculate confidence interval, check Sebastian Raschka blog for reference https://sebastianraschka.com/blog/2016/model-evaluation-selection-part1.html\n",
    "n = len(y_test)\n",
    "z = 1.96\n",
    "def conf_inter(ACC,n,z):\n",
    "    print (\"the condifedence interval is ({},{})\".format(ACC-z*((1/n)*ACC*(1-ACC))**0.5,ACC+z*((1/n)*ACC*(1-ACC))**0.5))"
   ]
  },
  {
   "cell_type": "code",
   "execution_count": 37,
   "metadata": {},
   "outputs": [],
   "source": [
    "s_scores = []"
   ]
  },
  {
   "cell_type": "code",
   "execution_count": 38,
   "metadata": {},
   "outputs": [
    {
     "name": "stdout",
     "output_type": "stream",
     "text": [
      "Fitting 3 folds for each of 112 candidates, totalling 336 fits\n",
      "Cross validation score: 959.8676395095155\n",
      "Test score: 952.0482324467541\n"
     ]
    },
    {
     "name": "stderr",
     "output_type": "stream",
     "text": [
      "[Parallel(n_jobs=1)]: Done 336 out of 336 | elapsed:    2.3s finished\n"
     ]
    }
   ],
   "source": [
    "# Hyper parameters tunning\n",
    "\n",
    "# Adaboost\n",
    "DTC = DecisionTreeClassifier()\n",
    "\n",
    "adaDTC = AdaBoostClassifier(DTC, random_state=7)\n",
    "\n",
    "ada_param_grid = {\"base_estimator__criterion\" : [\"gini\", \"entropy\"],\n",
    "              \"base_estimator__splitter\" :   [\"best\", \"random\"],\n",
    "              \"algorithm\" : [\"SAMME\",\"SAMME.R\"],\n",
    "              \"n_estimators\" :[1,2],\n",
    "              \"learning_rate\":  [0.0001, 0.001, 0.01, 0.1, 0.2, 0.3,1.5]}\n",
    "\n",
    "gsadaDTC = GridSearchCV(adaDTC,param_grid = ada_param_grid, cv=kfold, scoring=my_score, n_jobs= 1, verbose = 1)\n",
    "\n",
    "gsadaDTC.fit(X_train,y_train)\n",
    "\n",
    "ada_best1 = gsadaDTC.best_estimator_\n",
    "\n",
    "s_scores.append(s_score(y_test,ada_best1.predict(X_test)))\n",
    "print('Cross validation score: {}\\nTest score: {}'.format(gsadaDTC.best_score_,s_score(y_test,ada_best1.predict(X_test))))"
   ]
  },
  {
   "cell_type": "code",
   "execution_count": 39,
   "metadata": {},
   "outputs": [
    {
     "name": "stdout",
     "output_type": "stream",
     "text": [
      "the condifedence interval is (0.9260263940748804,0.9780700708186277)\n"
     ]
    }
   ],
   "source": [
    "ACC = s_score(y_test,ada_best1.predict(X_test))/1000\n",
    "\n",
    "conf_inter(ACC,n,z)"
   ]
  },
  {
   "cell_type": "code",
   "execution_count": 40,
   "metadata": {},
   "outputs": [
    {
     "name": "stdout",
     "output_type": "stream",
     "text": [
      "Fitting 3 folds for each of 6 candidates, totalling 18 fits\n"
     ]
    },
    {
     "name": "stderr",
     "output_type": "stream",
     "text": [
      "[Parallel(n_jobs=1)]: Done  18 out of  18 | elapsed:   12.0s finished\n"
     ]
    },
    {
     "name": "stdout",
     "output_type": "stream",
     "text": [
      "Cross validation score: 925.1023959806587\n",
      "Test score: 949.6672191080119\n"
     ]
    }
   ],
   "source": [
    "#ExtraTrees \n",
    "ExtC = ExtraTreesClassifier()\n",
    "\n",
    "\n",
    "## Search grid for optimal parameters\n",
    "ex_param_grid = {\"max_depth\": [None],\n",
    "              \"min_samples_leaf\": [1, 3, 10],\n",
    "              \"bootstrap\": [False],\n",
    "              \"n_estimators\" :[100,300],\n",
    "              \"criterion\": [\"gini\"]}\n",
    "\n",
    "\n",
    "gsExtC = GridSearchCV(ExtC,param_grid = ex_param_grid, cv=kfold, scoring=my_score, n_jobs= 1, verbose = 1)\n",
    "\n",
    "gsExtC.fit(X_train,y_train)\n",
    "\n",
    "ExtC_best1 = gsExtC.best_estimator_\n",
    "\n",
    "s_scores.append(s_score(y_test,ExtC_best1.predict(X_test)))\n",
    "# Best score\n",
    "print('Cross validation score: {}\\nTest score: {}'.format(gsExtC.best_score_,s_score(y_test,ExtC_best1.predict(X_test))))"
   ]
  },
  {
   "cell_type": "code",
   "execution_count": 41,
   "metadata": {},
   "outputs": [
    {
     "name": "stdout",
     "output_type": "stream",
     "text": [
      "the condifedence interval is (0.9230405172274492,0.9762939209885746)\n"
     ]
    }
   ],
   "source": [
    "ACC = s_score(y_test,ExtC_best1.predict(X_test))/1000\n",
    "conf_inter(ACC,n,z)"
   ]
  },
  {
   "cell_type": "code",
   "execution_count": 42,
   "metadata": {},
   "outputs": [
    {
     "name": "stdout",
     "output_type": "stream",
     "text": [
      "Fitting 3 folds for each of 216 candidates, totalling 648 fits\n"
     ]
    },
    {
     "name": "stderr",
     "output_type": "stream",
     "text": [
      "[Parallel(n_jobs=1)]: Done 648 out of 648 | elapsed:  9.5min finished\n"
     ]
    },
    {
     "name": "stdout",
     "output_type": "stream",
     "text": [
      "Cross validation score: 960.9225922178775\n",
      "Test score: 974.4232991359427\n"
     ]
    }
   ],
   "source": [
    "\n",
    "# RFC Parameters tunning \n",
    "RFC = RandomForestClassifier()\n",
    "\n",
    "\n",
    "## Search grid for optimal parameters\n",
    "rf_param_grid = {'max_depth' : [5,6,7,8],\n",
    "              \"max_features\": [3, 5, 'sqrt'],\n",
    "              \"min_samples_split\": [2, 3, 10],\n",
    "              \"min_samples_leaf\": [1, 3, 10],\n",
    "              \"bootstrap\": [False],\n",
    "              \"n_estimators\" :[300],\n",
    "              \"criterion\": [\"gini\",'entropy']}\n",
    "\n",
    "\n",
    "gsRFC = GridSearchCV(RFC,param_grid = rf_param_grid, cv=kfold, scoring=my_score, n_jobs= 1, verbose = 1,)\n",
    "\n",
    "gsRFC.fit(X_train,y_train)\n",
    "\n",
    "RFC_best1 = gsRFC.best_estimator_\n",
    "\n",
    "s_scores.append(s_score(y_test,RFC_best1.predict(X_test)))\n",
    "\n",
    "# Best score\n",
    "print('Cross validation score: {}\\nTest score: {}'.format(gsRFC.best_score_,s_score(y_test,RFC_best1.predict(X_test))))"
   ]
  },
  {
   "cell_type": "code",
   "execution_count": 43,
   "metadata": {},
   "outputs": [
    {
     "name": "stdout",
     "output_type": "stream",
     "text": [
      "the condifedence interval is (0.9551967084271775,0.9936498898447079)\n"
     ]
    }
   ],
   "source": [
    "ACC = s_score(y_test,RFC_best1.predict(X_test))/1000\n",
    "conf_inter(ACC,n,z)"
   ]
  },
  {
   "cell_type": "code",
   "execution_count": 44,
   "metadata": {},
   "outputs": [
    {
     "name": "stdout",
     "output_type": "stream",
     "text": [
      "Fitting 3 folds for each of 56 candidates, totalling 168 fits\n"
     ]
    },
    {
     "name": "stderr",
     "output_type": "stream",
     "text": [
      "[Parallel(n_jobs=1)]: Done 168 out of 168 | elapsed:  1.3min finished\n"
     ]
    },
    {
     "name": "stdout",
     "output_type": "stream",
     "text": [
      "Cross validation score: 0.8724637681159421\n",
      "Test score: 912.5234563488516\n"
     ]
    }
   ],
   "source": [
    "### SVC classifier\n",
    "SVMC = SVC(probability=True)\n",
    "svc_param_grid = {'kernel': ['rbf','linear'], \n",
    "                  'gamma': [ 0.001, 0.01, 0.1, 1],\n",
    "                  'C': [1, 10, 50, 100,200,300, 1000]}\n",
    "\n",
    "gsSVMC = GridSearchCV(SVMC,param_grid = svc_param_grid, cv=kfold, scoring=\"accuracy\", n_jobs= 1, verbose = 1)\n",
    "\n",
    "gsSVMC.fit(X_train,y_train)\n",
    "\n",
    "SVMC_best1 = gsSVMC.best_estimator_\n",
    "\n",
    "s_scores.append(s_score(y_test,SVMC_best1.predict(X_test)))\n",
    "# Best score\n",
    "gsSVMC.best_score_\n",
    "print('Cross validation score: {}\\nTest score: {}'.format(gsSVMC.best_score_,s_score(y_test,SVMC_best1.predict(X_test))))"
   ]
  },
  {
   "cell_type": "code",
   "execution_count": 45,
   "metadata": {},
   "outputs": [
    {
     "name": "stdout",
     "output_type": "stream",
     "text": [
      "the condifedence interval is (0.878114300747022,0.9469326119506811)\n"
     ]
    }
   ],
   "source": [
    "ACC = s_score(y_test,SVMC_best1.predict(X_test))/1000\n",
    "conf_inter(ACC,n,z)"
   ]
  },
  {
   "cell_type": "code",
   "execution_count": 46,
   "metadata": {},
   "outputs": [
    {
     "data": {
      "text/plain": [
       "Text(0.5,1,'Cross validation scores after hypertunning')"
      ]
     },
     "execution_count": 46,
     "metadata": {},
     "output_type": "execute_result"
    },
    {
     "data": {
      "image/png": "[encoded data removed]",
      "text/plain": [
       "<matplotlib.figure.Figure at 0xbba16c8470>"
      ]
     },
     "metadata": {},
     "output_type": "display_data"
    }
   ],
   "source": [
    "test_df = pd.DataFrame({'CrossValMeans':s_scores,\n",
    "                      \"Algorithm\":['AdaBoost','ExtraTrees','RandomForest','SVC']})\n",
    "# Make a bar graph of cross validation results\n",
    "f = sns.barplot('CrossValMeans','Algorithm',data=test_df,palette='Set3',orient='h')\n",
    "f.set_xlabel(\"S Scores\")\n",
    "f.set_title('Cross validation scores after hypertunning')"
   ]
  },
  {
   "cell_type": "code",
   "execution_count": 47,
   "metadata": {},
   "outputs": [],
   "source": [
    "# use normalized features for the meta classifier\n",
    "norm_features = train_set[['norm_maintainence_cost','norm_luggage_boot_size','norm_safety_rating','norm_buying_price']].values"
   ]
  },
  {
   "cell_type": "code",
   "execution_count": 48,
   "metadata": {},
   "outputs": [],
   "source": [
    "train_norm = norm_features"
   ]
  },
  {
   "cell_type": "code",
   "execution_count": 49,
   "metadata": {},
   "outputs": [],
   "source": [
    "# add predictions of previous classifiers to new train set\n",
    "for i in [ada_best1.predict(X).T,ExtC_best1.predict(X).T,RFC_best1.predict(X).T,SVMC_best1.predict(X).T]:\n",
    "    train_norm = np.column_stack((train_norm,i ))"
   ]
  },
  {
   "cell_type": "code",
   "execution_count": 50,
   "metadata": {},
   "outputs": [],
   "source": [
    "X_train, X_test, y_train, y_test = train_test_split(train_norm, y, test_size=0.2, random_state=41, stratify=y)"
   ]
  },
  {
   "cell_type": "code",
   "execution_count": 51,
   "metadata": {},
   "outputs": [],
   "source": [
    "s_scores = []"
   ]
  },
  {
   "cell_type": "code",
   "execution_count": 52,
   "metadata": {},
   "outputs": [
    {
     "data": {
      "text/plain": [
       "Text(0.5,1,'Cross validation scores before hypertunning')"
      ]
     },
     "execution_count": 52,
     "metadata": {},
     "output_type": "execute_result"
    },
    {
     "data": {
      "image/png": "[encoded data removed]",
      "text/plain": [
       "<matplotlib.figure.Figure at 0xbb9fc942b0>"
      ]
     },
     "metadata": {},
     "output_type": "display_data"
    }
   ],
   "source": [
    "cv_results = [] \n",
    "for classifier in classifiers:\n",
    "    cv_results.append(cross_val_score(classifier, X_train, y_train, scoring=my_score, cv=kfold, n_jobs=1))\n",
    "\n",
    "cv_means = []\n",
    "cv_std   = []\n",
    "\n",
    "for cv_result in cv_results:\n",
    "    cv_means.append(cv_result.mean())\n",
    "    cv_std.append(cv_result.std())\n",
    "    \n",
    "cv_df = pd.DataFrame({'CrossValMeans':cv_means,'CrossValerrors':cv_std,\n",
    "                      \"Algorithm\":['SVC','AdaBoost','RandomForest','ExtraTrees']})\n",
    "# Make a bar graph of cross validation results\n",
    "f = sns.barplot('CrossValMeans','Algorithm',data=cv_df,palette='Set3',orient='h', **{'xerr':cv_std})\n",
    "f.set_xlabel(\"Mean S Scores\")\n",
    "f.set_title('Cross validation scores before hypertunning')\n",
    "    "
   ]
  },
  {
   "cell_type": "code",
   "execution_count": 53,
   "metadata": {},
   "outputs": [
    {
     "name": "stdout",
     "output_type": "stream",
     "text": [
      "Fitting 3 folds for each of 112 candidates, totalling 336 fits\n",
      "Cross validation score: 986.2117648461895\n",
      "Test score: 984.0335517500872\n"
     ]
    },
    {
     "name": "stderr",
     "output_type": "stream",
     "text": [
      "[Parallel(n_jobs=1)]: Done 336 out of 336 | elapsed:    3.3s finished\n"
     ]
    }
   ],
   "source": [
    "gsadaDTC = GridSearchCV(adaDTC,param_grid = ada_param_grid, cv=kfold, scoring=my_score, n_jobs= 1, verbose = 1)\n",
    "\n",
    "gsadaDTC.fit(X_train,y_train)\n",
    "\n",
    "ada_best2 = gsadaDTC.best_estimator_\n",
    "\n",
    "s_scores.append(s_score(y_test,ada_best2.predict(X_test)))\n",
    "print('Cross validation score: {}\\nTest score: {}'.format(gsadaDTC.best_score_,s_score(y_test,ada_best2.predict(X_test))))"
   ]
  },
  {
   "cell_type": "code",
   "execution_count": 54,
   "metadata": {},
   "outputs": [
    {
     "name": "stdout",
     "output_type": "stream",
     "text": [
      "Fitting 3 folds for each of 6 candidates, totalling 18 fits\n"
     ]
    },
    {
     "name": "stderr",
     "output_type": "stream",
     "text": [
      "[Parallel(n_jobs=1)]: Done  18 out of  18 | elapsed:   12.2s finished\n"
     ]
    },
    {
     "name": "stdout",
     "output_type": "stream",
     "text": [
      "Cross validation score: 990.6021841886197\n",
      "Test score: 996.4221824686941\n"
     ]
    }
   ],
   "source": [
    "gsExtC = GridSearchCV(ExtC,param_grid = ex_param_grid, cv=kfold, scoring=my_score, n_jobs= 1, verbose = 1)\n",
    "\n",
    "gsExtC.fit(X_train,y_train)\n",
    "\n",
    "ExtC_best2 = gsExtC.best_estimator_\n",
    "\n",
    "s_scores.append(s_score(y_test,ExtC_best2.predict(X_test)))\n",
    "# Best score\n",
    "print('Cross validation score: {}\\nTest score: {}'.format(gsExtC.best_score_,s_score(y_test,ExtC_best2.predict(X_test))))"
   ]
  },
  {
   "cell_type": "code",
   "execution_count": 55,
   "metadata": {},
   "outputs": [
    {
     "name": "stdout",
     "output_type": "stream",
     "text": [
      "Fitting 3 folds for each of 216 candidates, totalling 648 fits\n"
     ]
    },
    {
     "name": "stderr",
     "output_type": "stream",
     "text": [
      "[Parallel(n_jobs=1)]: Done 648 out of 648 | elapsed: 10.3min finished\n"
     ]
    },
    {
     "name": "stdout",
     "output_type": "stream",
     "text": [
      "Cross validation score: 990.6002570278653\n",
      "Test score: 992.5395607661396\n"
     ]
    }
   ],
   "source": [
    "gsRFC = GridSearchCV(RFC,param_grid = rf_param_grid, cv=kfold, scoring=my_score, n_jobs= 1, verbose = 1,)\n",
    "\n",
    "gsRFC.fit(X_train,y_train)\n",
    "\n",
    "RFC_best2 = gsRFC.best_estimator_\n",
    "\n",
    "s_scores.append(s_score(y_test,RFC_best2.predict(X_test)))\n",
    "\n",
    "# Best score\n",
    "print('Cross validation score: {}\\nTest score: {}'.format(gsRFC.best_score_,s_score(y_test,RFC_best2.predict(X_test))))"
   ]
  },
  {
   "cell_type": "code",
   "execution_count": 56,
   "metadata": {},
   "outputs": [
    {
     "name": "stdout",
     "output_type": "stream",
     "text": [
      "Fitting 3 folds for each of 56 candidates, totalling 168 fits\n",
      "Cross validation score: 0.9884057971014493\n",
      "Test score: 996.1462947285844\n"
     ]
    },
    {
     "name": "stderr",
     "output_type": "stream",
     "text": [
      "[Parallel(n_jobs=1)]: Done 168 out of 168 | elapsed:    6.2s finished\n"
     ]
    }
   ],
   "source": [
    "gsSVMC = GridSearchCV(SVMC,param_grid = svc_param_grid, cv=kfold, scoring=\"accuracy\", n_jobs= 1, verbose = 1)\n",
    "\n",
    "gsSVMC.fit(X_train,y_train)\n",
    "\n",
    "SVMC_best2 = gsSVMC.best_estimator_\n",
    "\n",
    "s_scores.append(s_score(y_test,SVMC_best2.predict(X_test)))\n",
    "# Best score\n",
    "gsSVMC.best_score_\n",
    "print('Cross validation score: {}\\nTest score: {}'.format(gsSVMC.best_score_,s_score(y_test,SVMC_best2.predict(X_test))))"
   ]
  },
  {
   "cell_type": "code",
   "execution_count": 57,
   "metadata": {},
   "outputs": [
    {
     "data": {
      "text/plain": [
       "Text(0.5,1,'Cross validation scores after hypertuning ')"
      ]
     },
     "execution_count": 57,
     "metadata": {},
     "output_type": "execute_result"
    },
    {
     "data": {
      "image/png": "[encoded data removed]",
      "text/plain": [
       "<matplotlib.figure.Figure at 0xbba0c7be80>"
      ]
     },
     "metadata": {},
     "output_type": "display_data"
    }
   ],
   "source": [
    "test_df = pd.DataFrame({'CrossValMeans':s_scores,\n",
    "                      \"Algorithm\":['AdaBoost','ExtraTrees','RandomForest','SVC']})\n",
    "# Make a bar graph of cross validation results\n",
    "f = sns.barplot('CrossValMeans','Algorithm',data=test_df,palette='Set3',orient='h')\n",
    "f.set_xlabel(\"S Scores\")\n",
    "f.set_title('Cross validation scores after hypertuning ')"
   ]
  },
  {
   "cell_type": "code",
   "execution_count": 58,
   "metadata": {},
   "outputs": [
    {
     "data": {
      "text/plain": [
       "VotingClassifier(estimators=[('ada1', AdaBoostClassifier(algorithm='SAMME',\n",
       "          base_estimator=DecisionTreeClassifier(class_weight=None, criterion='gini', max_depth=None,\n",
       "            max_features=None, max_leaf_nodes=None,\n",
       "            min_impurity_decrease=0.0, min_impurity_split=None,\n",
       "            min_samples_...',\n",
       "  max_iter=-1, probability=True, random_state=None, shrinking=True,\n",
       "  tol=0.001, verbose=False))],\n",
       "         flatten_transform=None, n_jobs=1, voting='soft',\n",
       "         weights=[3, 2, 4, 1])"
      ]
     },
     "execution_count": 58,
     "metadata": {},
     "output_type": "execute_result"
    }
   ],
   "source": [
    "# use VotingClassifier for first list of classifiers\n",
    "vc1 = VotingClassifier([('ada1',ada_best1),('extree1',ExtC_best1),('rf1',RFC_best1),('svc1',SVMC_best1)],weights=[3,2,4,1],voting='soft')\n",
    "vc1.fit(X_train,y_train)"
   ]
  },
  {
   "cell_type": "code",
   "execution_count": 59,
   "metadata": {},
   "outputs": [
    {
     "data": {
      "text/plain": [
       "VotingClassifier(estimators=[('ada1', AdaBoostClassifier(algorithm='SAMME',\n",
       "          base_estimator=DecisionTreeClassifier(class_weight=None, criterion='gini', max_depth=None,\n",
       "            max_features=None, max_leaf_nodes=None,\n",
       "            min_impurity_decrease=0.0, min_impurity_split=None,\n",
       "            min_samples_...',\n",
       "  max_iter=-1, probability=True, random_state=None, shrinking=True,\n",
       "  tol=0.001, verbose=False))],\n",
       "         flatten_transform=None, n_jobs=1, voting='soft',\n",
       "         weights=[3, 2, 4, 1])"
      ]
     },
     "execution_count": 59,
     "metadata": {},
     "output_type": "execute_result"
    }
   ],
   "source": [
    "# use VotingClassifier for second list of classifiers\n",
    "vc2 = VotingClassifier([('ada1',ada_best2),('extree1',ExtC_best2),('rf1',RFC_best2),('svc1',SVMC_best2)],weights=[3,2,4,1],voting='soft')\n",
    "vc2.fit(X_train,y_train)"
   ]
  },
  {
   "cell_type": "code",
   "execution_count": 60,
   "metadata": {},
   "outputs": [],
   "source": [
    "# create meta dataset for final predictions\n",
    "X_meta = np.ones(train_set['popularity'].values.shape[0])\n",
    "for clf in [vc1,vc2]:\n",
    "    clf.fit(train_set.drop('popularity',axis=1).values,train_set['popularity'].values)\n",
    "    y_pred = clf.predict(train_set.drop('popularity',axis=1).values)\n",
    "    X_meta = np.vstack((X_meta,y_pred))\n",
    "X_meta = X_meta[1:].T"
   ]
  },
  {
   "cell_type": "code",
   "execution_count": 61,
   "metadata": {},
   "outputs": [
    {
     "data": {
      "text/plain": [
       "((1294, 2), (1294, 16))"
      ]
     },
     "execution_count": 61,
     "metadata": {},
     "output_type": "execute_result"
    }
   ],
   "source": [
    "X_meta.shape, train_set.shape"
   ]
  },
  {
   "cell_type": "code",
   "execution_count": 62,
   "metadata": {},
   "outputs": [],
   "source": [
    "X_train_meta, X_test_meta, y_train_meta, y_test_meta = train_test_split(X_meta, train_set['popularity'].values, test_size=0.2, stratify=train_set['popularity'].values)"
   ]
  },
  {
   "cell_type": "code",
   "execution_count": 63,
   "metadata": {},
   "outputs": [
    {
     "name": "stdout",
     "output_type": "stream",
     "text": [
      "Fitting 3 folds for each of 216 candidates, totalling 648 fits\n"
     ]
    },
    {
     "name": "stderr",
     "output_type": "stream",
     "text": [
      "[Parallel(n_jobs=1)]: Done 648 out of 648 | elapsed:  9.8min finished\n"
     ]
    },
    {
     "name": "stdout",
     "output_type": "stream",
     "text": [
      "Cross validation score: 996.1808406532214\n",
      "Test score: 992.3078610924198\n"
     ]
    }
   ],
   "source": [
    "RFC = RandomForestClassifier()\n",
    "\n",
    "\n",
    "## Search grid for optimal parameters\n",
    "rf_param_grid = {'max_depth' : [5,6,7,8],\n",
    "              \"max_features\": [1, 2, 'sqrt'],\n",
    "              \"min_samples_split\": [2, 3, 10],\n",
    "              \"min_samples_leaf\": [1, 3, 10],\n",
    "              \"bootstrap\": [False],\n",
    "              \"n_estimators\" :[300],\n",
    "              \"criterion\": [\"gini\",'entropy']}\n",
    "\n",
    "\n",
    "gsRFC = GridSearchCV(RFC,param_grid = rf_param_grid, cv=kfold, scoring=my_score, n_jobs= 1, verbose = 1,)\n",
    "\n",
    "gsRFC.fit(X_train_meta,y_train_meta)\n",
    "\n",
    "RFC_meta = gsRFC.best_estimator_\n",
    "\n",
    "\n",
    "# Best score\n",
    "print('Cross validation score: {}\\nTest score: {}'.format(gsRFC.best_score_,s_score(y_test_meta,RFC_meta.predict(X_test_meta))))"
   ]
  },
  {
   "cell_type": "code",
   "execution_count": 64,
   "metadata": {},
   "outputs": [],
   "source": [
    "# Make meta prediction on the test set\n",
    "X_meta_test = np.ones(test_set['popularity'].values.shape[0])\n",
    "for clf in [vc1,vc2]:\n",
    "    y_pred_test = clf.predict(test_set.drop('popularity',axis=1).values)\n",
    "    X_meta_test = np.vstack((X_meta_test,y_pred_test))\n",
    "X_meta_test = X_meta_test[1:].T"
   ]
  },
  {
   "cell_type": "code",
   "execution_count": 65,
   "metadata": {},
   "outputs": [
    {
     "data": {
      "text/plain": [
       "970.1348707047096"
      ]
     },
     "execution_count": 65,
     "metadata": {},
     "output_type": "execute_result"
    }
   ],
   "source": [
    "y_pred_test = RFC_meta.predict(X_meta_test)\n",
    "s_score(test_set['popularity'].values,RFC_meta.predict(X_meta_test))"
   ]
  },
  {
   "cell_type": "code",
   "execution_count": 66,
   "metadata": {},
   "outputs": [],
   "source": [
    "# make prediction on the final submission set\n",
    "X_meta_sub = np.ones(test.values.shape[0])\n",
    "for clf in [vc1,vc2]:\n",
    "    y_pred_sub = clf.predict(test.values)\n",
    "    X_meta_sub = np.vstack((X_meta_sub,y_pred_sub))\n",
    "X_meta_sub = X_meta_sub[1:].T\n",
    "Y_test_sub = RFC_meta.predict(X_meta_sub)"
   ]
  },
  {
   "cell_type": "code",
   "execution_count": 67,
   "metadata": {},
   "outputs": [],
   "source": [
    "test_sub = pd.DataFrame(Y_test_sub)\n",
    "test_sub.to_csv( 'prediction.csv' , float_format='%.f', index = False, header=False)"
   ]
  },
  {
   "cell_type": "code",
   "execution_count": null,
   "metadata": {},
   "outputs": [],
   "source": []
  }
 ],
 "metadata": {
  "kernelspec": {
   "display_name": "Python 3",
   "language": "python",
   "name": "python3"
  },
  "language_info": {
   "codemirror_mode": {
    "name": "ipython",
    "version": 3
   },
   "file_extension": ".py",
   "mimetype": "text/x-python",
   "name": "python",
   "nbconvert_exporter": "python",
   "pygments_lexer": "ipython3",
   "version": "3.5.4"
  }
 },
 "nbformat": 4,
 "nbformat_minor": 2
}
